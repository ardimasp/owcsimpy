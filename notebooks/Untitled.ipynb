{
 "cells": [
  {
   "cell_type": "code",
   "execution_count": 1,
   "metadata": {},
   "outputs": [],
   "source": [
    "%matplotlib notebook"
   ]
  },
  {
   "cell_type": "code",
   "execution_count": 2,
   "metadata": {},
   "outputs": [],
   "source": [
    "# import\n",
    "from owcsimpy.geoobjects.models.typicalsimpleofficeenv_py import TypicalSimpleOfficeEnv_py as TypicalOfficeEnv\n",
    "from owcsimpy.cir.freqdomaincir import FreqDomainCIR\n",
    "from owcsimpy.cir.timedomaincir import TimeDomainCIR\n",
    "from owcsimpy.cir.spheremodelcir import SphereModelCIR\n",
    "from scipy.constants import speed_of_light\n",
    "from owcsimpy.cir.cirutils import calcCIRFreqDom_fromMtx\n",
    "import numpy as np\n",
    "\n",
    "import matplotlib.pyplot as plt\n",
    "\n",
    "import mpl_toolkits.mplot3d.art3d as art3d\n",
    "\n",
    "from JSAnimation.IPython_display import display_animation\n",
    "from matplotlib import animation\n",
    "\n",
    "from owcsimpy.geoutils.mobility import getArrayMobility \n",
    "\n",
    "roomLength,roomWidth,roomHeight=4,3,3"
   ]
  },
  {
   "cell_type": "code",
   "execution_count": 3,
   "metadata": {},
   "outputs": [],
   "source": [
    "randomMobModel = 'rwp'\n",
    "activity = 'walking'\n",
    "dimensions = (roomLength-0.2,roomWidth-0.2)\n",
    "velocityMinMax = (0.1,1)\n",
    "waitTimeMax = 1.\n",
    "excludedArea = 1.8"
   ]
  },
  {
   "cell_type": "code",
   "execution_count": 68,
   "metadata": {},
   "outputs": [],
   "source": [
    "traj = getArrayMobility(\n",
    "                    randomMobModel=randomMobModel,\n",
    "                    activity=activity,\n",
    "                    dimensions=dimensions,\n",
    "                    velocityMinMax=velocityMinMax,\n",
    "                    waitTimeMax=waitTimeMax,\n",
    "                    excludedArea=excludedArea)"
   ]
  },
  {
   "cell_type": "code",
   "execution_count": 5,
   "metadata": {},
   "outputs": [
    {
     "data": {
      "text/plain": [
       "{'arrayLoc': array([[3.37616904, 1.92318326],\n",
       "        [3.37586197, 1.92327883],\n",
       "        [3.37555489, 1.9233744 ],\n",
       "        ...,\n",
       "        [1.78223006, 0.9099965 ],\n",
       "        [1.78142399, 0.90970381],\n",
       "        [1.78061791, 0.90941111]]),\n",
       " 'arrayVel': array([0.32160356, 0.32160356, 0.32160356, ..., 0.85757012, 0.85757012,\n",
       "        0.85757012]),\n",
       " 'arrayTime': array([0.00000000e+00, 1.00000000e-03, 2.00000000e-03, ...,\n",
       "        4.07001812e+01, 4.07011812e+01, 4.07021812e+01]),\n",
       " 'arrayDir': array([ 2.83987249,  2.83987249,  2.83987249, ..., -2.79328363,\n",
       "        -2.79328363, -2.79328363]),\n",
       " 'arrayTheta0': array([-0.17971021, -0.17912136, -0.17853595, ..., -0.25984536,\n",
       "        -0.25974113, -0.25962933]),\n",
       " 'arrayOmega0': array([-0.19847622, -0.1985062 , -0.19854251, ..., -0.29693663,\n",
       "        -0.29657345, -0.29620528])}"
      ]
     },
     "execution_count": 5,
     "metadata": {},
     "output_type": "execute_result"
    }
   ],
   "source": [
    "traj"
   ]
  },
  {
   "cell_type": "code",
   "execution_count": 69,
   "metadata": {},
   "outputs": [],
   "source": [
    "time = traj.get('arrayTime')\n",
    "vel = traj.get('arrayVel')\n",
    "# timecad = time"
   ]
  },
  {
   "cell_type": "code",
   "execution_count": 7,
   "metadata": {},
   "outputs": [
    {
     "data": {
      "text/plain": [
       "array([0.00000000e+00, 1.00000000e-03, 2.00000000e-03, ...,\n",
       "       4.07001812e+01, 4.07011812e+01, 4.07021812e+01])"
      ]
     },
     "execution_count": 7,
     "metadata": {},
     "output_type": "execute_result"
    }
   ],
   "source": [
    "time"
   ]
  },
  {
   "cell_type": "code",
   "execution_count": 70,
   "metadata": {},
   "outputs": [],
   "source": [
    "tmp = np.diff(vel)"
   ]
  },
  {
   "cell_type": "code",
   "execution_count": 12,
   "metadata": {},
   "outputs": [
    {
     "data": {
      "text/plain": [
       "array([0., 0., 0., ..., 0., 0., 0.])"
      ]
     },
     "execution_count": 12,
     "metadata": {},
     "output_type": "execute_result"
    }
   ],
   "source": [
    "np.find_common_type"
   ]
  },
  {
   "cell_type": "code",
   "execution_count": 71,
   "metadata": {},
   "outputs": [],
   "source": [
    "idx = np.where(tmp != 0)"
   ]
  },
  {
   "cell_type": "code",
   "execution_count": 72,
   "metadata": {},
   "outputs": [
    {
     "data": {
      "text/plain": [
       "array([1258])"
      ]
     },
     "execution_count": 72,
     "metadata": {},
     "output_type": "execute_result"
    }
   ],
   "source": [
    "idx[0]"
   ]
  },
  {
   "cell_type": "code",
   "execution_count": 17,
   "metadata": {},
   "outputs": [
    {
     "data": {
      "text/plain": [
       "30096"
      ]
     },
     "execution_count": 17,
     "metadata": {},
     "output_type": "execute_result"
    }
   ],
   "source": [
    "len(vel)"
   ]
  },
  {
   "cell_type": "code",
   "execution_count": 27,
   "metadata": {},
   "outputs": [],
   "source": [
    "x = np.where(tmp == 0.1)"
   ]
  },
  {
   "cell_type": "code",
   "execution_count": 31,
   "metadata": {},
   "outputs": [
    {
     "data": {
      "text/plain": [
       "0"
      ]
     },
     "execution_count": 31,
     "metadata": {},
     "output_type": "execute_result"
    }
   ],
   "source": [
    "len(x[0])"
   ]
  },
  {
   "cell_type": "code",
   "execution_count": 66,
   "metadata": {},
   "outputs": [],
   "source": [
    "timecad = time\n",
    "# for i in idx[0]:\n",
    "#     print(i)\n",
    "#     print((timecad[i+1]-timecad[i]))\n",
    "#     timecad[i+1:] = timecad[i+1:]-(timecad[i+1]-timecad[i])"
   ]
  },
  {
   "cell_type": "code",
   "execution_count": 73,
   "metadata": {},
   "outputs": [
    {
     "data": {
      "text/plain": [
       "0.001000000000000334"
      ]
     },
     "execution_count": 73,
     "metadata": {},
     "output_type": "execute_result"
    }
   ],
   "source": [
    "timecad[1259]-timecad[1258]"
   ]
  },
  {
   "cell_type": "code",
   "execution_count": 55,
   "metadata": {},
   "outputs": [
    {
     "data": {
      "text/plain": [
       "True"
      ]
     },
     "execution_count": 55,
     "metadata": {},
     "output_type": "execute_result"
    }
   ],
   "source": [
    "np.alltrue(np.isclose(time,timecad))"
   ]
  },
  {
   "cell_type": "code",
   "execution_count": 61,
   "metadata": {},
   "outputs": [
    {
     "data": {
      "text/plain": [
       "0.0"
      ]
     },
     "execution_count": 61,
     "metadata": {},
     "output_type": "execute_result"
    }
   ],
   "source": [
    "np.sum(1000.*(timecad-time))"
   ]
  },
  {
   "cell_type": "code",
   "execution_count": null,
   "metadata": {},
   "outputs": [],
   "source": []
  }
 ],
 "metadata": {
  "kernelspec": {
   "display_name": "Python 3",
   "language": "python",
   "name": "python3"
  },
  "language_info": {
   "codemirror_mode": {
    "name": "ipython",
    "version": 3
   },
   "file_extension": ".py",
   "mimetype": "text/x-python",
   "name": "python",
   "nbconvert_exporter": "python",
   "pygments_lexer": "ipython3",
   "version": "3.7.3"
  }
 },
 "nbformat": 4,
 "nbformat_minor": 4
}
