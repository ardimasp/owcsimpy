{
 "cells": [
  {
   "cell_type": "code",
   "execution_count": 1,
   "metadata": {},
   "outputs": [],
   "source": [
    "%matplotlib notebook"
   ]
  },
  {
   "cell_type": "code",
   "execution_count": 2,
   "metadata": {
    "code_folding": [
     0
    ]
   },
   "outputs": [],
   "source": [
    "# from mpl_toolkits.mplot3d import Axes3D\n",
    "# import matplotlib.pyplot as plt\n",
    "# import numpy as np\n",
    "# from itertools import product, combinations\n",
    "# from numpy import sin, cos\n",
    "# from matplotlib.patches import Rectangle, Circle, PathPatch\n",
    "# import mpl_toolkits.mplot3d.art3d as art3d\n",
    "\n",
    "# fig = plt.figure()\n",
    "# ax = fig.gca(projection='3d')\n",
    "# ax.set_aspect(\"auto\")\n",
    "# ax.set_autoscale_on(True)\n",
    "\n",
    "\n",
    "# r = [-10, 10]\n",
    "# for s, e in combinations(np.array(list(product(r,r,r))), 2):\n",
    "#     if np.sum(np.abs(s-e)) == r[1]-r[0]:\n",
    "#         ax.plot3D(*zip(s,e), color=\"b\")\n"
   ]
  },
  {
   "cell_type": "code",
   "execution_count": 9,
   "metadata": {
    "code_folding": [
     0
    ]
   },
   "outputs": [],
   "source": [
    "class testIter(object):\n",
    "    \n",
    "    def __init__(self):\n",
    "        self.var = 0\n",
    "        self.inc = 1\n",
    "    \n",
    "    def __iter__(self):\n",
    "        \n",
    "        while True:\n",
    "            self.var = self.var+self.inc\n",
    "            yield self.var\n",
    "            \n",
    "    def __call__(self,n):\n",
    "        self.inc \n",
    "        \n",
    "def funIter(*args, **kwargs):\n",
    "    return iter(testIter(*args, **kwargs))\n",
    "\n",
    "        \n",
    "iterIns = funIter()\n",
    "# iterIns = iter(testIter())\n",
    "\n"
   ]
  },
  {
   "cell_type": "code",
   "execution_count": null,
   "metadata": {},
   "outputs": [],
   "source": [
    "for x in iterIns"
   ]
  },
  {
   "cell_type": "code",
   "execution_count": 8,
   "metadata": {},
   "outputs": [
    {
     "ename": "TypeError",
     "evalue": "'generator' object is not callable",
     "output_type": "error",
     "traceback": [
      "\u001b[0;31m---------------------------------------------------------------------------\u001b[0m",
      "\u001b[0;31mTypeError\u001b[0m                                 Traceback (most recent call last)",
      "\u001b[0;32m<ipython-input-8-2e2316a697ac>\u001b[0m in \u001b[0;36m<module>\u001b[0;34m\u001b[0m\n\u001b[0;32m----> 1\u001b[0;31m \u001b[0mprint\u001b[0m\u001b[0;34m(\u001b[0m\u001b[0mnext\u001b[0m\u001b[0;34m(\u001b[0m\u001b[0miterIns\u001b[0m\u001b[0;34m(\u001b[0m\u001b[0;36m4\u001b[0m\u001b[0;34m)\u001b[0m\u001b[0;34m)\u001b[0m\u001b[0;34m)\u001b[0m\u001b[0;34m\u001b[0m\u001b[0;34m\u001b[0m\u001b[0m\n\u001b[0m",
      "\u001b[0;31mTypeError\u001b[0m: 'generator' object is not callable"
     ]
    }
   ],
   "source": [
    "print(next(iterIns(4)))"
   ]
  },
  {
   "cell_type": "code",
   "execution_count": 21,
   "metadata": {},
   "outputs": [],
   "source": [
    "# help(np.where)"
   ]
  },
  {
   "cell_type": "code",
   "execution_count": 56,
   "metadata": {},
   "outputs": [],
   "source": [
    "# from owcsimpy.geoutils.mobility.randommobility_py import random_waypoint as RandomWaypoint\n",
    "from owcsimpy.geoutils.mobility.randommobility_py import RandomWaypoint\n",
    "import numpy as np\n",
    "\n",
    "roomLength,roomWidth,roomHeight=4,3,3\n",
    "\n",
    "rwp = RandomWaypoint(1, dimensions=(roomLength, roomWidth), velocity=(0.1, 1), wt_max=1.0)\n",
    "rwpIter = iter(rwp)"
   ]
  },
  {
   "cell_type": "code",
   "execution_count": 73,
   "metadata": {},
   "outputs": [],
   "source": [
    "# i = 0\n",
    "arrayLoc = []\n",
    "arrayVel = []\n",
    "\n",
    "for i in range(30):\n",
    "    loc = next(rwpIter)\n",
    "#     print(loc,i)\n",
    "    arrayLoc.append(np.array(loc))\n",
    "    arrayVel.append(np.array(rwp.velocity))\n",
    "\n",
    "# arrayDeltaTime = []\n",
    "# for i in range(len(arrayLoc)-1):\n",
    "#     arrayDeltaTime.append(np.linalg.norm(arrayLoc[i+1]-arrayLoc[i]))\n",
    "\n",
    "arrayTime = [0]\n",
    "for i in range(len(arrayLoc)-1):\n",
    "    deltaTime = np.linalg.norm(arrayLoc[i+1]-arrayLoc[i])\n",
    "    arrayTime.append(deltaTime)\n"
   ]
  },
  {
   "cell_type": "code",
   "execution_count": 77,
   "metadata": {},
   "outputs": [
    {
     "data": {
      "text/plain": [
       "array([1.        , 0.9151578 , 0.62965162, 0.59595164, 0.88051768,\n",
       "       0.61613974, 0.95407233, 0.72253092, 0.95447669, 0.95447669,\n",
       "       0.95447669, 0.95447669, 0.95447669, 0.95447669, 0.9465478 ,\n",
       "       0.61399553, 0.61399553, 0.61084819, 0.76730449, 0.52706181,\n",
       "       0.76722269, 0.58922797, 0.71585259, 0.27545897, 0.09907777,\n",
       "       0.99315028, 0.99315028, 0.99315028, 0.99315028, 0.99315028])"
      ]
     },
     "execution_count": 77,
     "metadata": {},
     "output_type": "execute_result"
    }
   ],
   "source": [
    "time = np.array(arrayTime)\n",
    "\n",
    "np.cos(time)"
   ]
  },
  {
   "cell_type": "code",
   "execution_count": 72,
   "metadata": {},
   "outputs": [
    {
     "name": "stdout",
     "output_type": "stream",
     "text": [
      "29\n"
     ]
    }
   ],
   "source": [
    "print(len(arrayDeltaTime))"
   ]
  },
  {
   "cell_type": "code",
   "execution_count": 25,
   "metadata": {},
   "outputs": [
    {
     "data": {
      "text/plain": [
       "array([[1.82676005, 1.97169753]])"
      ]
     },
     "execution_count": 25,
     "metadata": {},
     "output_type": "execute_result"
    }
   ],
   "source": [
    "arrayLoc[0]"
   ]
  },
  {
   "cell_type": "code",
   "execution_count": 78,
   "metadata": {},
   "outputs": [
    {
     "name": "stdout",
     "output_type": "stream",
     "text": [
      "Help on built-in function randn:\n",
      "\n",
      "randn(...) method of mtrand.RandomState instance\n",
      "    randn(d0, d1, ..., dn)\n",
      "    \n",
      "    Return a sample (or samples) from the \"standard normal\" distribution.\n",
      "    \n",
      "    If positive, int_like or int-convertible arguments are provided,\n",
      "    `randn` generates an array of shape ``(d0, d1, ..., dn)``, filled\n",
      "    with random floats sampled from a univariate \"normal\" (Gaussian)\n",
      "    distribution of mean 0 and variance 1 (if any of the :math:`d_i` are\n",
      "    floats, they are first converted to integers by truncation). A single\n",
      "    float randomly sampled from the distribution is returned if no\n",
      "    argument is provided.\n",
      "    \n",
      "    This is a convenience function.  If you want an interface that takes a\n",
      "    tuple as the first argument, use `numpy.random.standard_normal` instead.\n",
      "    \n",
      "    Parameters\n",
      "    ----------\n",
      "    d0, d1, ..., dn : int, optional\n",
      "        The dimensions of the returned array, should be all positive.\n",
      "        If no argument is given a single Python float is returned.\n",
      "    \n",
      "    Returns\n",
      "    -------\n",
      "    Z : ndarray or float\n",
      "        A ``(d0, d1, ..., dn)``-shaped array of floating-point samples from\n",
      "        the standard normal distribution, or a single such float if\n",
      "        no parameters were supplied.\n",
      "    \n",
      "    See Also\n",
      "    --------\n",
      "    standard_normal : Similar, but takes a tuple as its argument.\n",
      "    \n",
      "    Notes\n",
      "    -----\n",
      "    For random samples from :math:`N(\\mu, \\sigma^2)`, use:\n",
      "    \n",
      "    ``sigma * np.random.randn(...) + mu``\n",
      "    \n",
      "    Examples\n",
      "    --------\n",
      "    >>> np.random.randn()\n",
      "    2.1923875335537315 #random\n",
      "    \n",
      "    Two-by-four array of samples from N(3, 6.25):\n",
      "    \n",
      "    >>> 2.5 * np.random.randn(2, 4) + 3\n",
      "    array([[-4.49401501,  4.00950034, -1.81814867,  7.29718677],  #random\n",
      "           [ 0.39924804,  4.68456316,  4.99394529,  4.84057254]]) #random\n",
      "\n"
     ]
    }
   ],
   "source": [
    "help(np.random.randn)"
   ]
  },
  {
   "cell_type": "code",
   "execution_count": null,
   "metadata": {},
   "outputs": [],
   "source": []
  }
 ],
 "metadata": {
  "kernelspec": {
   "display_name": "Python 3",
   "language": "python",
   "name": "python3"
  },
  "language_info": {
   "codemirror_mode": {
    "name": "ipython",
    "version": 3
   },
   "file_extension": ".py",
   "mimetype": "text/x-python",
   "name": "python",
   "nbconvert_exporter": "python",
   "pygments_lexer": "ipython3",
   "version": "3.7.3"
  }
 },
 "nbformat": 4,
 "nbformat_minor": 4
}
